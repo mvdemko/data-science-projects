{
 "cells": [
  {
   "attachments": {},
   "cell_type": "markdown",
   "metadata": {},
   "source": [
    "# Electricity Usage Analysis\n",
    "The purpose of this notebook is to perform an analysis of historical electricity usage for the purposes of sizing a backup battery system for my home."
   ]
  },
  {
   "cell_type": "code",
   "execution_count": null,
   "metadata": {},
   "outputs": [],
   "source": [
    "import pandas as pd\n",
    "import plotly.express as px"
   ]
  },
  {
   "cell_type": "code",
   "execution_count": null,
   "metadata": {},
   "outputs": [],
   "source": [
    "# Import data\n",
    "df = pd.read_csv(\"data/Trimmed_Electric_15_Minute_10-14-2022_5-13-2023_20230514.csv\")\n",
    "df.head()"
   ]
  },
  {
   "cell_type": "code",
   "execution_count": null,
   "metadata": {},
   "outputs": [],
   "source": [
    "# Reformat column names and add units to quantities\n",
    "quantities = [\"consumption\", \"generation\", \"net\"]\n",
    "df.columns = [\n",
    "    str.replace(str.lower(x), \" \", \"_\")\n",
    "    if str.lower(x) not in quantities\n",
    "    else str.replace(str.lower(x), \" \", \"_\") + \"_kwh\"\n",
    "    for x in df.columns\n",
    "]\n",
    "df.head()"
   ]
  },
  {
   "cell_type": "code",
   "execution_count": null,
   "metadata": {},
   "outputs": [],
   "source": [
    "# Create a DateTimeIndex\n",
    "df.loc[:, \"date_start_time\"] = df.loc[:, \"date\"] + \" \" + df.loc[:, \"start_time\"]\n",
    "df.index = pd.to_datetime(df.loc[:, \"date_start_time\"])\n",
    "df.head()"
   ]
  },
  {
   "cell_type": "code",
   "execution_count": null,
   "metadata": {},
   "outputs": [],
   "source": [
    "# Remove unneeded columns\n",
    "df.drop(\n",
    "    columns=[\"date\", \"start_time\", \"duration\", \"date_start_time\"],\n",
    "    inplace=True,\n",
    ")\n",
    "df.head()"
   ]
  },
  {
   "cell_type": "code",
   "execution_count": null,
   "metadata": {},
   "outputs": [],
   "source": [
    "# Add some useful columns for grouping by time\n",
    "df.loc[:, \"date\"] = df.index.date\n",
    "df.loc[:, \"hour\"] = df.index.hour\n",
    "df.head()"
   ]
  },
  {
   "cell_type": "code",
   "execution_count": null,
   "metadata": {},
   "outputs": [],
   "source": [
    "# Identify the first date on which there was solar generation\n",
    "first_generation_date = min(df.loc[(df[\"generation_kwh\"] > 0),].index.date)\n",
    "print(f\"First solar generation date: {first_generation_date}\")"
   ]
  },
  {
   "cell_type": "code",
   "execution_count": null,
   "metadata": {},
   "outputs": [],
   "source": [
    "# Add a column indicating whether solar was active\n",
    "df.loc[(df[\"date\"] >= first_generation_date), \"is_solar_active\"] = True\n",
    "df.loc[(df[\"date\"] < first_generation_date), \"is_solar_active\"] = False\n",
    "df.head()"
   ]
  },
  {
   "cell_type": "code",
   "execution_count": null,
   "metadata": {},
   "outputs": [],
   "source": [
    "daily_usage = df.groupby([\"date\"], as_index=True).agg({\"net_kwh\": \"sum\"})"
   ]
  },
  {
   "cell_type": "code",
   "execution_count": null,
   "metadata": {},
   "outputs": [],
   "source": [
    "fig = px.line(df, x=df.date, y=\"net_kwh\")\n",
    "fig.show()"
   ]
  }
 ],
 "metadata": {
  "kernelspec": {
   "display_name": "energy_usage",
   "language": "python",
   "name": "python3"
  },
  "language_info": {
   "codemirror_mode": {
    "name": "ipython",
    "version": 3
   },
   "file_extension": ".py",
   "mimetype": "text/x-python",
   "name": "python",
   "nbconvert_exporter": "python",
   "pygments_lexer": "ipython3",
   "version": "3.10.11"
  },
  "orig_nbformat": 4,
  "vscode": {
   "interpreter": {
    "hash": "aa19f139c38a1541aaf808733f37d4d921180c68e97ecd8041c02bd5c034ae82"
   }
  }
 },
 "nbformat": 4,
 "nbformat_minor": 2
}
